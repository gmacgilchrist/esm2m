{
 "cells": [
  {
   "cell_type": "markdown",
   "id": "a79d82ae",
   "metadata": {},
   "source": [
    "### Save grid file with depth dimension to /work"
   ]
  },
  {
   "cell_type": "code",
   "execution_count": 1,
   "id": "644e896c",
   "metadata": {},
   "outputs": [],
   "source": [
    "import xarray as xr\n",
    "import esm2m.config_perturbations as cp"
   ]
  },
  {
   "cell_type": "code",
   "execution_count": 7,
   "id": "16a6a0d6",
   "metadata": {},
   "outputs": [],
   "source": [
    "variable='dic'\n",
    "ds = cp.load_exps(variable=variable,experiments=[''])['']\n",
    "z = ds['st_ocean']\n",
    "z_i = ds['st_edges_ocean']\n",
    "\n",
    "grid = cp.load_grid(z=z,z_i=z_i)\n",
    "\n",
    "grid.to_netcdf('/work/gam/projects/bio-pump-timescales/esm2m/data/grid.nc')"
   ]
  },
  {
   "cell_type": "code",
   "execution_count": null,
   "id": "f41d2fbd",
   "metadata": {},
   "outputs": [],
   "source": []
  }
 ],
 "metadata": {
  "kernelspec": {
   "display_name": "Python [conda env:wmt_bgc]",
   "language": "python",
   "name": "conda-env-wmt_bgc-py"
  },
  "language_info": {
   "codemirror_mode": {
    "name": "ipython",
    "version": 3
   },
   "file_extension": ".py",
   "mimetype": "text/x-python",
   "name": "python",
   "nbconvert_exporter": "python",
   "pygments_lexer": "ipython3",
   "version": "3.9.4"
  }
 },
 "nbformat": 4,
 "nbformat_minor": 5
}
