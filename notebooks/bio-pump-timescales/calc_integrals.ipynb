{
 "cells": [
  {
   "cell_type": "markdown",
   "id": "f0b13c24",
   "metadata": {},
   "source": [
    "## Calculate and save global integrals"
   ]
  },
  {
   "cell_type": "code",
   "execution_count": 15,
   "id": "1dbbe4d4",
   "metadata": {},
   "outputs": [
    {
     "name": "stdout",
     "output_type": "stream",
     "text": [
      "The autoreload extension is already loaded. To reload it, use:\n",
      "  %reload_ext autoreload\n"
     ]
    }
   ],
   "source": [
    "%load_ext autoreload\n",
    "%autoreload 2"
   ]
  },
  {
   "cell_type": "code",
   "execution_count": 1,
   "id": "11ec065b",
   "metadata": {},
   "outputs": [],
   "source": [
    "import xarray as xr\n",
    "import esm2m.config_perturbations as cp"
   ]
  },
  {
   "cell_type": "code",
   "execution_count": 18,
   "id": "27354a34",
   "metadata": {},
   "outputs": [],
   "source": [
    "variable='dic'\n",
    "ppname = cp.get_variable_dict()[variable]\n",
    "dd = cp.load_exps(variable=variable)"
   ]
  },
  {
   "cell_type": "code",
   "execution_count": 6,
   "id": "61d472f2",
   "metadata": {},
   "outputs": [],
   "source": [
    "exps = list(dd.keys())\n",
    "grid = cp.load_grid()\n",
    "grid['dz'] = dd[exps[0]]['st_edges_ocean'].diff('st_edges_ocean'\n",
    "                                               ).rename({'st_edges_ocean':'st_ocean'}\n",
    "                                                       ).assign_coords({'st_ocean':dd[exps[0]]['st_ocean']})\n",
    "grid['volume_t'] = grid['area_t']*grid['dz']"
   ]
  },
  {
   "cell_type": "markdown",
   "id": "a3958d22",
   "metadata": {},
   "source": [
    "#### STOP TRYING TO OVERCOMPLICATE THINGS\n",
    "Just think carefully about what variables you need, do the calculations and be done. Don't worry about making everything perfect."
   ]
  },
  {
   "cell_type": "code",
   "execution_count": 20,
   "id": "1fda5c3f",
   "metadata": {},
   "outputs": [
    {
     "name": "stdout",
     "output_type": "stream",
     "text": [
      "None\n",
      "None\n",
      "None\n",
      "None\n"
     ]
    }
   ],
   "source": [
    "for e,ds in dd.items():\n",
    "    print((ds[variable]*grid['volume_t']).name)\n",
    "#     savedir=ppname+''\n",
    "#     print((ds[variable]*grid['volume_t']))."
   ]
  },
  {
   "cell_type": "code",
   "execution_count": null,
   "id": "fdcc96fd",
   "metadata": {},
   "outputs": [],
   "source": []
  }
 ],
 "metadata": {
  "kernelspec": {
   "display_name": "Python [conda env:wmt_bgc]",
   "language": "python",
   "name": "conda-env-wmt_bgc-py"
  },
  "language_info": {
   "codemirror_mode": {
    "name": "ipython",
    "version": 3
   },
   "file_extension": ".py",
   "mimetype": "text/x-python",
   "name": "python",
   "nbconvert_exporter": "python",
   "pygments_lexer": "ipython3",
   "version": "3.9.4"
  }
 },
 "nbformat": 4,
 "nbformat_minor": 5
}
