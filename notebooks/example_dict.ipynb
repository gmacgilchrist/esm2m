{
 "cells": [
  {
   "cell_type": "code",
   "execution_count": 18,
   "metadata": {},
   "outputs": [],
   "source": [
    "# Import the packages that you want to use\n",
    "import xarray as xr"
   ]
  },
  {
   "cell_type": "code",
   "execution_count": 19,
   "metadata": {},
   "outputs": [],
   "source": [
    "# Specify the path to the data on flyingfish\n",
    "rootdir = '/local/ss23/GFDL_LEs/'\n",
    "# Specify which experiment you want to look at\n",
    "experiment = 'RCP85'\n",
    "# Specify the file name\n",
    "filename = 'sst.1.rcp85.remap.1950_2100.nc'\n",
    "# The combination of these defines the path\n",
    "path = rootdir+experiment+'/'+filename\n",
    "\n",
    "# Load the file using xarray\n",
    "ds = xr.open_dataset(path)"
   ]
  },
  {
   "cell_type": "code",
   "execution_count": 8,
   "metadata": {},
   "outputs": [],
   "source": [
    "regions = ['NorthAmerica','SouthAmerica','Oceania']\n",
    "\n",
    "regions_latbounds = {}\n",
    "regions_latbounds['NorthAmerica']=slice(10,65)\n",
    "regions_latbounds['SouthAmerica']=slice(-45,10)\n",
    "regions_latbounds['Oceania']=slice(-45,0)"
   ]
  },
  {
   "cell_type": "code",
   "execution_count": 16,
   "metadata": {},
   "outputs": [],
   "source": [
    "regions_latbounds = {'NorthAmerica':slice(10,65),'SouthAmerica':slice(-45,10),'Oceania':slice(-45,0)}"
   ]
  },
  {
   "cell_type": "code",
   "execution_count": 17,
   "metadata": {},
   "outputs": [
    {
     "name": "stdout",
     "output_type": "stream",
     "text": [
      "slice(10, 65, None)\n",
      "slice(-45, 10, None)\n",
      "slice(-45, 0, None)\n"
     ]
    },
    {
     "data": {
      "text/plain": [
       "{'NorthAmerica': <xarray.DataArray 'temp' (time: 1812, st_ocean: 1, yt_ocean: 55, xt_ocean: 360)>\n",
       " [35877600 values with dtype=float32]\n",
       " Coordinates:\n",
       "   * xt_ocean  (xt_ocean) float64 0.5 1.5 2.5 3.5 4.5 ... 356.5 357.5 358.5 359.5\n",
       "   * yt_ocean  (yt_ocean) float64 10.5 11.5 12.5 13.5 ... 61.5 62.5 63.5 64.5\n",
       "   * st_ocean  (st_ocean) float64 5.0\n",
       "   * time      (time) object 1950-01-16 12:00:00 ... 2100-12-16 12:00:00\n",
       " Attributes:\n",
       "     standard_name:  sea_water_potential_temperature\n",
       "     long_name:      Potential temperature\n",
       "     units:          degrees K\n",
       "     cell_methods:   time: mean\n",
       "     interp_method:  conserve_order1,\n",
       " 'SouthAmerica': <xarray.DataArray 'temp' (time: 1812, st_ocean: 1, yt_ocean: 55, xt_ocean: 360)>\n",
       " [35877600 values with dtype=float32]\n",
       " Coordinates:\n",
       "   * xt_ocean  (xt_ocean) float64 0.5 1.5 2.5 3.5 4.5 ... 356.5 357.5 358.5 359.5\n",
       "   * yt_ocean  (yt_ocean) float64 -44.5 -43.5 -42.5 -41.5 ... 6.5 7.5 8.5 9.5\n",
       "   * st_ocean  (st_ocean) float64 5.0\n",
       "   * time      (time) object 1950-01-16 12:00:00 ... 2100-12-16 12:00:00\n",
       " Attributes:\n",
       "     standard_name:  sea_water_potential_temperature\n",
       "     long_name:      Potential temperature\n",
       "     units:          degrees K\n",
       "     cell_methods:   time: mean\n",
       "     interp_method:  conserve_order1,\n",
       " 'Oceania': <xarray.DataArray 'temp' (time: 1812, st_ocean: 1, yt_ocean: 45, xt_ocean: 360)>\n",
       " [29354400 values with dtype=float32]\n",
       " Coordinates:\n",
       "   * xt_ocean  (xt_ocean) float64 0.5 1.5 2.5 3.5 4.5 ... 356.5 357.5 358.5 359.5\n",
       "   * yt_ocean  (yt_ocean) float64 -44.5 -43.5 -42.5 -41.5 ... -3.5 -2.5 -1.5 -0.5\n",
       "   * st_ocean  (st_ocean) float64 5.0\n",
       "   * time      (time) object 1950-01-16 12:00:00 ... 2100-12-16 12:00:00\n",
       " Attributes:\n",
       "     standard_name:  sea_water_potential_temperature\n",
       "     long_name:      Potential temperature\n",
       "     units:          degrees K\n",
       "     cell_methods:   time: mean\n",
       "     interp_method:  conserve_order1}"
      ]
     },
     "execution_count": 17,
     "metadata": {},
     "output_type": "execute_result"
    }
   ],
   "source": [
    "regions_temp={}\n",
    "for r in regions:\n",
    "    print(regions_latbounds[r])\n",
    "    regions_temp[r] = ds['temp'].sel(yt_ocean=regions_latbounds[r])\n",
    "regions_temp"
   ]
  },
  {
   "cell_type": "code",
   "execution_count": null,
   "metadata": {},
   "outputs": [],
   "source": []
  }
 ],
 "metadata": {
  "kernelspec": {
   "display_name": "Python 3",
   "language": "python",
   "name": "python3"
  },
  "language_info": {
   "codemirror_mode": {
    "name": "ipython",
    "version": 3
   },
   "file_extension": ".py",
   "mimetype": "text/x-python",
   "name": "python",
   "nbconvert_exporter": "python",
   "pygments_lexer": "ipython3",
   "version": "3.8.2"
  }
 },
 "nbformat": 4,
 "nbformat_minor": 4
}
